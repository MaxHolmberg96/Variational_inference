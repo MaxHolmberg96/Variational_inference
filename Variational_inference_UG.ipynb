{
 "cells": [
  {
   "cell_type": "markdown",
   "metadata": {},
   "source": [
    "#### Adapted from: \"Pattern Recognition and Machine Learning, Christopher M. Bishop\" and \"A Probabilistic Perspective Murphy 2012\"\n",
    "\n",
    "The goal with variational inference is that given some data (assumed to be gaussian) we want to infer the mean and variance, which also have some underlying distribution.\n",
    "\n",
    "In this notebook the underlying distribution of the mean and the precision (inverse of variance) is said to be:\n",
    "\n",
    "#### $p(μ|τ) = \\mathcal{N}(\\mu|\\mu_0,(\\kappa_0\\tau)^−1)$\n",
    "\n",
    "#### $p(τ) = Gamma(\\tau|a_0, b_0)$\n"
   ]
  },
  {
   "cell_type": "code",
   "execution_count": 1,
   "metadata": {},
   "outputs": [],
   "source": [
    "import numpy as np\n",
    "import matplotlib.pyplot as plt\n",
    "import seaborn as sns\n",
    "\n",
    "# Control the randomness\n",
    "np.random.seed(0)"
   ]
  },
  {
   "cell_type": "markdown",
   "metadata": {},
   "source": [
    "Let us generate some data from $\\mathcal{N}(x | \\mu, \\tau)$ by first drawing $\\mu$ and $\\tau$ from their distributions:"
   ]
  },
  {
   "cell_type": "code",
   "execution_count": 2,
   "metadata": {},
   "outputs": [
    {
     "name": "stdout",
     "output_type": "stream",
     "text": [
      "𝜇: 0.9317948158947394 , 𝜏: 0.79587450816311\n",
      "mean: 1.6290896120349871 , var: 2.2753896844720845\n"
     ]
    }
   ],
   "source": [
    "# Our initial parameters for mu and tau\n",
    "mu_0 = 0\n",
    "k_0 = 1 # Remember that this is our precision value and not variance.\n",
    "a_0 = 1\n",
    "b_0 = 1\n",
    "N = 15\n",
    "# Lets generate some data D\n",
    "tau = np.random.gamma(shape=a_0, scale=b_0, size=1)[0]\n",
    "mu = np.random.normal(loc=mu_0, scale=1 / (k_0 * tau), size=1)[0]\n",
    "D = np.random.normal(loc=mu, scale=1 / tau, size=N)\n",
    "print(\"𝜇:\", mu, \", 𝜏:\", tau)\n",
    "print(\"mean:\", np.mean(D), \", var:\", np.var(D))\n",
    "#print(D)"
   ]
  },
  {
   "cell_type": "markdown",
   "metadata": {},
   "source": [
    "Remember that the goal now is the approximate distribution over the real posterior $p(\\mu, \\tau)$, the approximate posterior we're searching for is $q(\\mu, \\tau) = q_\\mu(\\mu)q_\\tau(\\tau)$ where we use the mean field method to factorize these even though the real posterior can not be factorized like this."
   ]
  },
  {
   "cell_type": "markdown",
   "metadata": {},
   "source": [
    "From Murphy (chapter 21) and Bishops (chapter 10) book we know that $q_\\mu(\\mu) = \\mathcal{N}(\\mu | \\mu_N, \\kappa_N^-1)$ and that $q_\\tau(\\tau) = Ga(\\tau | a_N, b_N)$\n",
    "\n",
    "Where:\n",
    "\n",
    "$\\mu_N = \\frac{\\kappa_0\\mu_0 + N\\bar{x}}{\\kappa_0 + N}$\n",
    "\n",
    "$\\kappa_N = (\\kappa_0 + N)\\frac{a_N}{b_N}$\n",
    "\n",
    "$a_N = a_0 + \\frac{N + 1}{b_N}$\n",
    "\n",
    "$b_N = b_0 + \\kappa_0(\\mathbb{E}[\\mu^2] + \\mu_0^2 - 2\\mathbb{E}[\\mu]\\mu_0) + \\frac{1}{2}\\sum_{i=1}^N (x_i^2 + \\mathbb{E}[\\mu^2] - 2\\mathbb{E}[\\mu]x_i)$\n",
    "\n",
    "To ensure that the implementation is correct we can check that the equation (21.98) from Murphy is monotonically increasing (which by definition it should)."
   ]
  },
  {
   "cell_type": "code",
   "execution_count": 3,
   "metadata": {},
   "outputs": [],
   "source": [
    "def Lq(k_N, a_N, b_N):\n",
    "    '''\n",
    "    Equation (21.98) L(q) from Murphy A Probabilistic Perspective\n",
    "    '''\n",
    "    from scipy.special import gamma as gamma_func\n",
    "    return -(1 / 2) * np.log(k_N) + np.log(gamma_func(a_N)) - a_N * np.log(b_N)"
   ]
  },
  {
   "cell_type": "markdown",
   "metadata": {},
   "source": [
    "Let us save the iterations variables so we can see the approximation every iterations from start to finish"
   ]
  },
  {
   "cell_type": "code",
   "execution_count": 4,
   "metadata": {},
   "outputs": [],
   "source": [
    "mu_N_save = [mu_0]\n",
    "k_N_save = [k_0]\n",
    "a_N_save = [a_0]\n",
    "b_N_save = [b_0]"
   ]
  },
  {
   "cell_type": "code",
   "execution_count": 5,
   "metadata": {},
   "outputs": [
    {
     "name": "stdout",
     "output_type": "stream",
     "text": [
      "Done! Found local minimum after  8  iterations.\n"
     ]
    }
   ],
   "source": [
    "mu_N = (k_0 * mu_0 + N * np.mean(D)) / (k_0 + N)\n",
    "mu_N_save.append(mu_N)\n",
    "a_N = a_0 + (N + 1) / 2\n",
    "a_N_save.append(a_N)\n",
    "emu = mu_N\n",
    "changed = 0\n",
    "k_N = 1\n",
    "iterations = 0\n",
    "last_Lq = -1\n",
    "while True:\n",
    "    iterations += 1\n",
    "    emu2 = (1 / k_N) + np.power(mu_N, 2)\n",
    "    last_sum = 0\n",
    "    for i in range(N):\n",
    "        last_sum += np.power(D[i], 2) + emu2 - 2 * emu * D[i]\n",
    "    b_N = b_0 + k_0 * (emu2 + np.power(mu_0, 2) - 2 * emu * mu_0) + (1 / 2) * last_sum\n",
    "    b_N_save.append(b_N)\n",
    "    k_N = (k_0 + N)*(a_N / b_N)\n",
    "    k_N_save.append(k_N)\n",
    "        \n",
    "    # Sanity check\n",
    "    current_Lq = Lq(k_N, a_N, b_N)\n",
    "    if abs(current_Lq - last_Lq) < 10**-6:\n",
    "        print(\"Done! Found local minimum after \", iterations, \" iterations.\")\n",
    "        break\n",
    "    last_Lq = current_Lq"
   ]
  },
  {
   "cell_type": "code",
   "execution_count": 6,
   "metadata": {},
   "outputs": [
    {
     "name": "stdout",
     "output_type": "stream",
     "text": [
      "mu_N: 1.5272715112828004 \n",
      "k_N: 6.617589754339474 \n",
      "a_N: 9.0 \n",
      "b_N: 21.76018842896271\n"
     ]
    }
   ],
   "source": [
    "print(\"mu_N:\", mu_N, \"\\nk_N:\", k_N, \"\\na_N:\", a_N, \"\\nb_N:\", b_N)"
   ]
  },
  {
   "cell_type": "markdown",
   "metadata": {},
   "source": [
    "To visualize the approximate posterior $q(\\mu, \\tau)$ we can loop over values for $\\mu$ and $\\tau$ calculate the probability for that value, this will give us a contour plot over $q(\\mu, \\tau)$."
   ]
  },
  {
   "cell_type": "code",
   "execution_count": 7,
   "metadata": {},
   "outputs": [],
   "source": [
    "def gamma_pdf(shape, rate):\n",
    "    from scipy.special import gamma as gamma_func\n",
    "    def pdf(x):\n",
    "        return np.power(rate, shape) / gamma_func(shape) * np.power(x, shape - 1) * np.exp(-rate * x)\n",
    "    return pdf\n",
    "\n",
    "def normal_pdf(loc, precision):\n",
    "    from scipy.stats import norm\n",
    "    def pdf(x):\n",
    "        return norm.pdf(x, loc, 1 / precision)\n",
    "    return pdf\n",
    "\n",
    "def approx_q(mu, tau):\n",
    "    return n_pdf(mu) * g_pdf(tau)"
   ]
  },
  {
   "cell_type": "code",
   "execution_count": 28,
   "metadata": {},
   "outputs": [],
   "source": [
    "number_grid_points = 50\n",
    "X, Y = np.meshgrid(np.linspace(.5, 2.5, number_grid_points), np.linspace(0, 1.5, number_grid_points))\n",
    "Z = np.zeros((number_grid_points, number_grid_points))\n",
    "g_pdf = gamma_pdf(a_N, b_N)\n",
    "n_pdf = normal_pdf(mu_N, k_N)\n",
    "Z = approx_q(X, Y)"
   ]
  },
  {
   "cell_type": "code",
   "execution_count": 29,
   "metadata": {},
   "outputs": [
    {
     "data": {
      "text/plain": [
       "Text(0, 0.5, 'tau')"
      ]
     },
     "execution_count": 29,
     "metadata": {},
     "output_type": "execute_result"
    },
    {
     "data": {
      "image/png": "[encoded data removed]",
      "text/plain": [
       "<Figure size 432x288 with 1 Axes>"
      ]
     },
     "metadata": {
      "needs_background": "light"
     },
     "output_type": "display_data"
    }
   ],
   "source": [
    "plt.contour(X, Y, Z, levels=10)\n",
    "plt.title(\"Approximation of q(mu,tau)\")\n",
    "plt.xlabel(\"mu\")\n",
    "plt.ylabel(\"tau\")"
   ]
  },
  {
   "cell_type": "markdown",
   "metadata": {},
   "source": [
    "Let us save the approximation for each iteration saved, and save an image for each\n"
   ]
  },
  {
   "cell_type": "code",
   "execution_count": 31,
   "metadata": {},
   "outputs": [],
   "source": [
    "number_grid_points = 50\n",
    "X, Y = np.meshgrid(np.linspace(.5, 2.5, number_grid_points), np.linspace(0, 1.5, number_grid_points))\n",
    "Z = np.zeros((number_grid_points, number_grid_points))\n",
    "for i in range(iterations):\n",
    "    ei = i if i <= 1 else 1\n",
    "    g_pdf = gamma_pdf(a_N_save[ei], b_N_save[i])\n",
    "    n_pdf = normal_pdf(mu_N_save[ei], k_N_save[i])\n",
    "    Z = approx_q(X, Y)\n",
    "\n",
    "    plt.contour(X, Y, Z, levels=10)\n",
    "    plt.title(\"Approximation of q(mu,tau), iteration=\" + str(i))\n",
    "    plt.xlabel(\"mu\")\n",
    "    plt.ylabel(\"tau\")\n",
    "    plt.savefig(\"approx_q_\" + str(i))\n",
    "    plt.close()"
   ]
  },
  {
   "cell_type": "code",
   "execution_count": null,
   "metadata": {},
   "outputs": [],
   "source": []
  }
 ],
 "metadata": {
  "kernelspec": {
   "display_name": "Python 3",
   "language": "python",
   "name": "python3"
  },
  "language_info": {
   "codemirror_mode": {
    "name": "ipython",
    "version": 3
   },
   "file_extension": ".py",
   "mimetype": "text/x-python",
   "name": "python",
   "nbconvert_exporter": "python",
   "pygments_lexer": "ipython3",
   "version": "3.6.8"
  }
 },
 "nbformat": 4,
 "nbformat_minor": 2
}
